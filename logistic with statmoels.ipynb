{
 "cells": [
  {
   "cell_type": "code",
   "execution_count": null,
   "metadata": {},
   "outputs": [],
   "source": [
    "import statsmodels.formula.api as sm\n",
    "import numpy as np\n",
    "import pandas as pd\n",
    "\n",
    "\n",
    "\n",
    "\n",
    "logit_model = sm.logit('ATTORNEY~CLMAGE+LOSS+CLMINSUR+CLMSEX',data = claimants).fit()\n",
    "print(logit_model.summary())\n",
    "y_pred = logit_model.predict(claimants)\n",
    "\n",
    "claimants[\"pred_prob\"] = y_pred\n",
    "#Creating new column for storing predicted class of Attorney\n",
    "\n",
    "# filling all the cells with zeroes\n",
    "claimants[\"Att_val\"] = np.zeros(1096)\n",
    "\n",
    "# taking threshold value as 0.5 and above the prob value will be treated \n",
    "# as correct value \n",
    "claimants.loc[y_pred>0.5,\"Att_val\"] = 1\n",
    "claimants.Att_val\n",
    "accuracy=accuracy_score(y_pred_df.actual,claimants.Att_val)\n",
    "print(accuracy)\n"
   ]
  }
 ],
 "metadata": {
  "kernelspec": {
   "display_name": "Python 3",
   "language": "python",
   "name": "python3"
  },
  "language_info": {
   "codemirror_mode": {
    "name": "ipython",
    "version": 3
   },
   "file_extension": ".py",
   "mimetype": "text/x-python",
   "name": "python",
   "nbconvert_exporter": "python",
   "pygments_lexer": "ipython3",
   "version": "3.7.3"
  }
 },
 "nbformat": 4,
 "nbformat_minor": 2
}
