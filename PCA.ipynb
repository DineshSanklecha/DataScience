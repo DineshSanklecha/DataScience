{
 "cells": [
  {
   "cell_type": "code",
   "execution_count": 1,
   "metadata": {},
   "outputs": [],
   "source": [
    "import pandas as pd \n",
    "import numpy as np\n",
    "from sklearn.decomposition import PCA\n",
    "import matplotlib.pyplot as plt\n",
    "from sklearn.preprocessing import scale #used to convert to z scores"
   ]
  },
  {
   "cell_type": "code",
   "execution_count": 2,
   "metadata": {},
   "outputs": [
    {
     "data": {
      "text/html": [
       "<div>\n",
       "<style scoped>\n",
       "    .dataframe tbody tr th:only-of-type {\n",
       "        vertical-align: middle;\n",
       "    }\n",
       "\n",
       "    .dataframe tbody tr th {\n",
       "        vertical-align: top;\n",
       "    }\n",
       "\n",
       "    .dataframe thead th {\n",
       "        text-align: right;\n",
       "    }\n",
       "</style>\n",
       "<table border=\"1\" class=\"dataframe\">\n",
       "  <thead>\n",
       "    <tr style=\"text-align: right;\">\n",
       "      <th></th>\n",
       "      <th>Univ</th>\n",
       "      <th>SAT</th>\n",
       "      <th>Top10</th>\n",
       "      <th>Accept</th>\n",
       "      <th>SFRatio</th>\n",
       "      <th>Expenses</th>\n",
       "      <th>GradRate</th>\n",
       "    </tr>\n",
       "  </thead>\n",
       "  <tbody>\n",
       "    <tr>\n",
       "      <th>0</th>\n",
       "      <td>Brown</td>\n",
       "      <td>1310</td>\n",
       "      <td>89</td>\n",
       "      <td>22</td>\n",
       "      <td>13</td>\n",
       "      <td>22704</td>\n",
       "      <td>94</td>\n",
       "    </tr>\n",
       "    <tr>\n",
       "      <th>1</th>\n",
       "      <td>CalTech</td>\n",
       "      <td>1415</td>\n",
       "      <td>100</td>\n",
       "      <td>25</td>\n",
       "      <td>6</td>\n",
       "      <td>63575</td>\n",
       "      <td>81</td>\n",
       "    </tr>\n",
       "    <tr>\n",
       "      <th>2</th>\n",
       "      <td>CMU</td>\n",
       "      <td>1260</td>\n",
       "      <td>62</td>\n",
       "      <td>59</td>\n",
       "      <td>9</td>\n",
       "      <td>25026</td>\n",
       "      <td>72</td>\n",
       "    </tr>\n",
       "    <tr>\n",
       "      <th>3</th>\n",
       "      <td>Columbia</td>\n",
       "      <td>1310</td>\n",
       "      <td>76</td>\n",
       "      <td>24</td>\n",
       "      <td>12</td>\n",
       "      <td>31510</td>\n",
       "      <td>88</td>\n",
       "    </tr>\n",
       "    <tr>\n",
       "      <th>4</th>\n",
       "      <td>Cornell</td>\n",
       "      <td>1280</td>\n",
       "      <td>83</td>\n",
       "      <td>33</td>\n",
       "      <td>13</td>\n",
       "      <td>21864</td>\n",
       "      <td>90</td>\n",
       "    </tr>\n",
       "  </tbody>\n",
       "</table>\n",
       "</div>"
      ],
      "text/plain": [
       "       Univ   SAT  Top10  Accept  SFRatio  Expenses  GradRate\n",
       "0     Brown  1310     89      22       13     22704        94\n",
       "1   CalTech  1415    100      25        6     63575        81\n",
       "2       CMU  1260     62      59        9     25026        72\n",
       "3  Columbia  1310     76      24       12     31510        88\n",
       "4   Cornell  1280     83      33       13     21864        90"
      ]
     },
     "execution_count": 2,
     "metadata": {},
     "output_type": "execute_result"
    }
   ],
   "source": [
    "uni = pd.read_csv(\"PCA.csv\")\n",
    "uni.describe()\n",
    "uni.head()"
   ]
  },
  {
   "cell_type": "code",
   "execution_count": 4,
   "metadata": {},
   "outputs": [
    {
     "data": {
      "text/plain": [
       "array([[ 1310,    89,    22,    13, 22704,    94],\n",
       "       [ 1415,   100,    25,     6, 63575,    81],\n",
       "       [ 1260,    62,    59,     9, 25026,    72],\n",
       "       [ 1310,    76,    24,    12, 31510,    88],\n",
       "       [ 1280,    83,    33,    13, 21864,    90],\n",
       "       [ 1340,    89,    23,    10, 32162,    95],\n",
       "       [ 1315,    90,    30,    12, 31585,    95],\n",
       "       [ 1255,    74,    24,    12, 20126,    92],\n",
       "       [ 1400,    91,    14,    11, 39525,    97],\n",
       "       [ 1305,    75,    44,     7, 58691,    87],\n",
       "       [ 1380,    94,    30,    10, 34870,    91],\n",
       "       [ 1260,    85,    39,    11, 28052,    89],\n",
       "       [ 1255,    81,    42,    13, 15122,    94],\n",
       "       [ 1081,    38,    54,    18, 10185,    80],\n",
       "       [ 1375,    91,    14,     8, 30220,    95],\n",
       "       [ 1005,    28,    90,    19,  9066,    69],\n",
       "       [ 1360,    90,    20,    12, 36450,    93],\n",
       "       [ 1075,    49,    67,    25,  8704,    67],\n",
       "       [ 1240,    95,    40,    17, 15140,    78],\n",
       "       [ 1290,    75,    50,    13, 38380,    87],\n",
       "       [ 1180,    65,    68,    16, 15470,    85],\n",
       "       [ 1285,    80,    36,    11, 27553,    90],\n",
       "       [ 1225,    77,    44,    14, 13349,    92],\n",
       "       [ 1085,    40,    69,    15, 11857,    71],\n",
       "       [ 1375,    95,    19,    11, 43514,    96]], dtype=int64)"
      ]
     },
     "execution_count": 4,
     "metadata": {},
     "output_type": "execute_result"
    }
   ],
   "source": [
    "# Considering only numerical data \n",
    "uni.data = uni.iloc[:,1:]\n",
    "uni.data.head()\n",
    "# Converting into numpy array\n",
    "UNI = uni.data.values\n",
    "UNI"
   ]
  },
  {
   "cell_type": "code",
   "execution_count": 5,
   "metadata": {
    "scrolled": true
   },
   "outputs": [
    {
     "data": {
      "text/plain": [
       "array([[ 0.41028362,  0.6575195 , -0.88986682,  0.07026045, -0.33141256,\n",
       "         0.82030265],\n",
       "       [ 1.39925928,  1.23521235, -0.73465749, -1.68625071,  2.56038138,\n",
       "        -0.64452351],\n",
       "       [-0.06065717, -0.76045386,  1.02438157, -0.93346022, -0.16712136,\n",
       "        -1.65863393],\n",
       "       [ 0.41028362, -0.02520842, -0.78639393, -0.18066972,  0.29164871,\n",
       "         0.14422904],\n",
       "       [ 0.12771914,  0.34241431, -0.32076595,  0.07026045, -0.39084607,\n",
       "         0.36958691],\n",
       "       [ 0.69284809,  0.6575195 , -0.83813038, -0.68253005,  0.33778044,\n",
       "         0.93298158],\n",
       "       [ 0.4573777 ,  0.71003703, -0.47597528, -0.18066972,  0.29695528,\n",
       "         0.93298158],\n",
       "       [-0.10775125, -0.13024348, -0.78639393, -0.18066972, -0.51381683,\n",
       "         0.59494478],\n",
       "       [ 1.25797704,  0.76255456, -1.30375836, -0.43159988,  0.85874344,\n",
       "         1.15833946],\n",
       "       [ 0.36318954, -0.07772595,  0.24833493, -1.43532055,  2.21481798,\n",
       "         0.0315501 ],\n",
       "       [ 1.06960072,  0.92010716, -0.47597528, -0.68253005,  0.52938275,\n",
       "         0.48226584],\n",
       "       [-0.06065717,  0.44744937, -0.01034729, -0.43159988,  0.04698077,\n",
       "         0.25690797],\n",
       "       [-0.10775125,  0.23737924,  0.14486204,  0.07026045, -0.86787073,\n",
       "         0.82030265],\n",
       "       [-1.7466252 , -2.02087462,  0.76569936,  1.32491127, -1.21718409,\n",
       "        -0.75720245],\n",
       "       [ 1.02250664,  0.76255456, -1.30375836, -1.18439038,  0.20037583,\n",
       "         0.93298158],\n",
       "       [-2.46245521, -2.54604994,  2.6282113 ,  1.57584144, -1.29635802,\n",
       "        -1.99667073],\n",
       "       [ 0.88122441,  0.71003703, -0.9933397 , -0.18066972,  0.64117435,\n",
       "         0.70762371],\n",
       "       [-1.8031381 , -1.44318177,  1.43827311,  3.08142243, -1.32197103,\n",
       "        -2.22202861],\n",
       "       [-0.24903349,  0.97262469,  0.04138915,  1.07398111, -0.86659715,\n",
       "        -0.98256032],\n",
       "       [ 0.2219073 , -0.07772595,  0.55875358,  0.07026045,  0.77772991,\n",
       "         0.0315501 ],\n",
       "       [-0.81416244, -0.60290126,  1.49000956,  0.82305094, -0.84324827,\n",
       "        -0.19380777],\n",
       "       [ 0.17481322,  0.18486171, -0.16555662, -0.43159988,  0.01167444,\n",
       "         0.36958691],\n",
       "       [-0.39031573,  0.02730912,  0.24833493,  0.32119061, -0.99331788,\n",
       "         0.59494478],\n",
       "       [-1.70894994, -1.91583956,  1.541746  ,  0.57212078, -1.09888311,\n",
       "        -1.77131286],\n",
       "       [ 1.02250664,  0.97262469, -1.04507615, -0.43159988,  1.14098185,\n",
       "         1.04566052]])"
      ]
     },
     "execution_count": 5,
     "metadata": {},
     "output_type": "execute_result"
    }
   ],
   "source": [
    "# Normalizing the numerical data \n",
    "uni_normal = scale(UNI)\n",
    "uni_normal"
   ]
  },
  {
   "cell_type": "code",
   "execution_count": 6,
   "metadata": {},
   "outputs": [
    {
     "data": {
      "text/plain": [
       "<seaborn.axisgrid.PairGrid at 0x1fa171e0b00>"
      ]
     },
     "execution_count": 6,
     "metadata": {},
     "output_type": "execute_result"
    },
    {
     "data": {
      "image/png": "[encoded data removed]",
      "text/plain": [
       "<Figure size 1080x1080 with 42 Axes>"
      ]
     },
     "metadata": {
      "needs_background": "light"
     },
     "output_type": "display_data"
    }
   ],
   "source": [
    "import seaborn as sns\n",
    "sns.pairplot(uni.data)"
   ]
  },
  {
   "cell_type": "code",
   "execution_count": 9,
   "metadata": {},
   "outputs": [
    {
     "data": {
      "text/html": [
       "<div>\n",
       "<style scoped>\n",
       "    .dataframe tbody tr th:only-of-type {\n",
       "        vertical-align: middle;\n",
       "    }\n",
       "\n",
       "    .dataframe tbody tr th {\n",
       "        vertical-align: top;\n",
       "    }\n",
       "\n",
       "    .dataframe thead th {\n",
       "        text-align: right;\n",
       "    }\n",
       "</style>\n",
       "<table border=\"1\" class=\"dataframe\">\n",
       "  <thead>\n",
       "    <tr style=\"text-align: right;\">\n",
       "      <th></th>\n",
       "      <th>0</th>\n",
       "      <th>1</th>\n",
       "      <th>2</th>\n",
       "      <th>3</th>\n",
       "      <th>4</th>\n",
       "      <th>5</th>\n",
       "    </tr>\n",
       "  </thead>\n",
       "  <tbody>\n",
       "    <tr>\n",
       "      <th>0</th>\n",
       "      <td>-1.009874</td>\n",
       "      <td>-1.064310</td>\n",
       "      <td>0.081066</td>\n",
       "      <td>0.056951</td>\n",
       "      <td>-0.128754</td>\n",
       "      <td>-0.034650</td>\n",
       "    </tr>\n",
       "    <tr>\n",
       "      <th>1</th>\n",
       "      <td>-2.822238</td>\n",
       "      <td>2.259045</td>\n",
       "      <td>0.836829</td>\n",
       "      <td>0.143845</td>\n",
       "      <td>-0.125962</td>\n",
       "      <td>-0.180703</td>\n",
       "    </tr>\n",
       "    <tr>\n",
       "      <th>2</th>\n",
       "      <td>1.112466</td>\n",
       "      <td>1.631209</td>\n",
       "      <td>-0.266787</td>\n",
       "      <td>1.075075</td>\n",
       "      <td>-0.191814</td>\n",
       "      <td>0.345679</td>\n",
       "    </tr>\n",
       "    <tr>\n",
       "      <th>3</th>\n",
       "      <td>-0.741741</td>\n",
       "      <td>-0.042187</td>\n",
       "      <td>0.060501</td>\n",
       "      <td>-0.157208</td>\n",
       "      <td>-0.577611</td>\n",
       "      <td>0.109163</td>\n",
       "    </tr>\n",
       "    <tr>\n",
       "      <th>4</th>\n",
       "      <td>-0.311912</td>\n",
       "      <td>-0.635244</td>\n",
       "      <td>0.010241</td>\n",
       "      <td>0.171364</td>\n",
       "      <td>0.012726</td>\n",
       "      <td>-0.016921</td>\n",
       "    </tr>\n",
       "    <tr>\n",
       "      <th>5</th>\n",
       "      <td>-1.696691</td>\n",
       "      <td>-0.344363</td>\n",
       "      <td>-0.253408</td>\n",
       "      <td>0.012564</td>\n",
       "      <td>-0.052661</td>\n",
       "      <td>-0.027166</td>\n",
       "    </tr>\n",
       "    <tr>\n",
       "      <th>6</th>\n",
       "      <td>-1.246821</td>\n",
       "      <td>-0.490984</td>\n",
       "      <td>-0.032094</td>\n",
       "      <td>-0.205644</td>\n",
       "      <td>0.293505</td>\n",
       "      <td>-0.078012</td>\n",
       "    </tr>\n",
       "    <tr>\n",
       "      <th>7</th>\n",
       "      <td>-0.338750</td>\n",
       "      <td>-0.785169</td>\n",
       "      <td>-0.493585</td>\n",
       "      <td>0.039856</td>\n",
       "      <td>-0.544979</td>\n",
       "      <td>-0.155372</td>\n",
       "    </tr>\n",
       "    <tr>\n",
       "      <th>8</th>\n",
       "      <td>-2.374150</td>\n",
       "      <td>-0.386539</td>\n",
       "      <td>0.116098</td>\n",
       "      <td>-0.453366</td>\n",
       "      <td>-0.230108</td>\n",
       "      <td>0.266984</td>\n",
       "    </tr>\n",
       "    <tr>\n",
       "      <th>9</th>\n",
       "      <td>-1.403277</td>\n",
       "      <td>2.119515</td>\n",
       "      <td>-0.442827</td>\n",
       "      <td>-0.632543</td>\n",
       "      <td>0.230054</td>\n",
       "      <td>-0.235615</td>\n",
       "    </tr>\n",
       "    <tr>\n",
       "      <th>10</th>\n",
       "      <td>-1.726103</td>\n",
       "      <td>0.088237</td>\n",
       "      <td>0.170404</td>\n",
       "      <td>0.260902</td>\n",
       "      <td>0.233318</td>\n",
       "      <td>0.238968</td>\n",
       "    </tr>\n",
       "    <tr>\n",
       "      <th>11</th>\n",
       "      <td>-0.450857</td>\n",
       "      <td>-0.011133</td>\n",
       "      <td>-0.175746</td>\n",
       "      <td>0.236166</td>\n",
       "      <td>0.263251</td>\n",
       "      <td>-0.314844</td>\n",
       "    </tr>\n",
       "    <tr>\n",
       "      <th>12</th>\n",
       "      <td>0.040238</td>\n",
       "      <td>-1.009204</td>\n",
       "      <td>-0.496517</td>\n",
       "      <td>0.229299</td>\n",
       "      <td>0.448032</td>\n",
       "      <td>0.004939</td>\n",
       "    </tr>\n",
       "    <tr>\n",
       "      <th>13</th>\n",
       "      <td>3.233730</td>\n",
       "      <td>-0.374580</td>\n",
       "      <td>-0.495373</td>\n",
       "      <td>-0.521238</td>\n",
       "      <td>-0.639295</td>\n",
       "      <td>-0.090048</td>\n",
       "    </tr>\n",
       "    <tr>\n",
       "      <th>14</th>\n",
       "      <td>-2.236265</td>\n",
       "      <td>-0.371793</td>\n",
       "      <td>-0.398994</td>\n",
       "      <td>0.406966</td>\n",
       "      <td>-0.416761</td>\n",
       "      <td>0.050619</td>\n",
       "    </tr>\n",
       "    <tr>\n",
       "      <th>15</th>\n",
       "      <td>5.172992</td>\n",
       "      <td>0.779915</td>\n",
       "      <td>-0.385912</td>\n",
       "      <td>-0.232212</td>\n",
       "      <td>0.179287</td>\n",
       "      <td>-0.030905</td>\n",
       "    </tr>\n",
       "    <tr>\n",
       "      <th>16</th>\n",
       "      <td>-1.699644</td>\n",
       "      <td>-0.305597</td>\n",
       "      <td>0.318508</td>\n",
       "      <td>-0.297463</td>\n",
       "      <td>-0.163425</td>\n",
       "      <td>0.114423</td>\n",
       "    </tr>\n",
       "    <tr>\n",
       "      <th>17</th>\n",
       "      <td>4.578146</td>\n",
       "      <td>-0.347591</td>\n",
       "      <td>1.499642</td>\n",
       "      <td>-0.454252</td>\n",
       "      <td>-0.191142</td>\n",
       "      <td>0.104149</td>\n",
       "    </tr>\n",
       "    <tr>\n",
       "      <th>18</th>\n",
       "      <td>0.822603</td>\n",
       "      <td>-0.698906</td>\n",
       "      <td>1.427811</td>\n",
       "      <td>0.760779</td>\n",
       "      <td>0.184260</td>\n",
       "      <td>-0.251103</td>\n",
       "    </tr>\n",
       "    <tr>\n",
       "      <th>19</th>\n",
       "      <td>-0.097762</td>\n",
       "      <td>0.650446</td>\n",
       "      <td>0.100508</td>\n",
       "      <td>-0.500097</td>\n",
       "      <td>0.487218</td>\n",
       "      <td>0.219242</td>\n",
       "    </tr>\n",
       "    <tr>\n",
       "      <th>20</th>\n",
       "      <td>1.963183</td>\n",
       "      <td>-0.224768</td>\n",
       "      <td>-0.255881</td>\n",
       "      <td>-0.048474</td>\n",
       "      <td>0.822746</td>\n",
       "      <td>0.152247</td>\n",
       "    </tr>\n",
       "    <tr>\n",
       "      <th>21</th>\n",
       "      <td>-0.542289</td>\n",
       "      <td>-0.079589</td>\n",
       "      <td>-0.305393</td>\n",
       "      <td>0.131699</td>\n",
       "      <td>0.052740</td>\n",
       "      <td>-0.036726</td>\n",
       "    </tr>\n",
       "    <tr>\n",
       "      <th>22</th>\n",
       "      <td>0.532221</td>\n",
       "      <td>-1.017167</td>\n",
       "      <td>-0.423716</td>\n",
       "      <td>0.169536</td>\n",
       "      <td>0.357813</td>\n",
       "      <td>-0.066099</td>\n",
       "    </tr>\n",
       "    <tr>\n",
       "      <th>23</th>\n",
       "      <td>3.548697</td>\n",
       "      <td>0.778462</td>\n",
       "      <td>-0.449363</td>\n",
       "      <td>0.323679</td>\n",
       "      <td>-0.358333</td>\n",
       "      <td>-0.077456</td>\n",
       "    </tr>\n",
       "    <tr>\n",
       "      <th>24</th>\n",
       "      <td>-2.305900</td>\n",
       "      <td>-0.117704</td>\n",
       "      <td>0.253989</td>\n",
       "      <td>-0.516183</td>\n",
       "      <td>0.055894</td>\n",
       "      <td>-0.010793</td>\n",
       "    </tr>\n",
       "  </tbody>\n",
       "</table>\n",
       "</div>"
      ],
      "text/plain": [
       "           0         1         2         3         4         5\n",
       "0  -1.009874 -1.064310  0.081066  0.056951 -0.128754 -0.034650\n",
       "1  -2.822238  2.259045  0.836829  0.143845 -0.125962 -0.180703\n",
       "2   1.112466  1.631209 -0.266787  1.075075 -0.191814  0.345679\n",
       "3  -0.741741 -0.042187  0.060501 -0.157208 -0.577611  0.109163\n",
       "4  -0.311912 -0.635244  0.010241  0.171364  0.012726 -0.016921\n",
       "5  -1.696691 -0.344363 -0.253408  0.012564 -0.052661 -0.027166\n",
       "6  -1.246821 -0.490984 -0.032094 -0.205644  0.293505 -0.078012\n",
       "7  -0.338750 -0.785169 -0.493585  0.039856 -0.544979 -0.155372\n",
       "8  -2.374150 -0.386539  0.116098 -0.453366 -0.230108  0.266984\n",
       "9  -1.403277  2.119515 -0.442827 -0.632543  0.230054 -0.235615\n",
       "10 -1.726103  0.088237  0.170404  0.260902  0.233318  0.238968\n",
       "11 -0.450857 -0.011133 -0.175746  0.236166  0.263251 -0.314844\n",
       "12  0.040238 -1.009204 -0.496517  0.229299  0.448032  0.004939\n",
       "13  3.233730 -0.374580 -0.495373 -0.521238 -0.639295 -0.090048\n",
       "14 -2.236265 -0.371793 -0.398994  0.406966 -0.416761  0.050619\n",
       "15  5.172992  0.779915 -0.385912 -0.232212  0.179287 -0.030905\n",
       "16 -1.699644 -0.305597  0.318508 -0.297463 -0.163425  0.114423\n",
       "17  4.578146 -0.347591  1.499642 -0.454252 -0.191142  0.104149\n",
       "18  0.822603 -0.698906  1.427811  0.760779  0.184260 -0.251103\n",
       "19 -0.097762  0.650446  0.100508 -0.500097  0.487218  0.219242\n",
       "20  1.963183 -0.224768 -0.255881 -0.048474  0.822746  0.152247\n",
       "21 -0.542289 -0.079589 -0.305393  0.131699  0.052740 -0.036726\n",
       "22  0.532221 -1.017167 -0.423716  0.169536  0.357813 -0.066099\n",
       "23  3.548697  0.778462 -0.449363  0.323679 -0.358333 -0.077456\n",
       "24 -2.305900 -0.117704  0.253989 -0.516183  0.055894 -0.010793"
      ]
     },
     "execution_count": 9,
     "metadata": {},
     "output_type": "execute_result"
    }
   ],
   "source": [
    "pcs= PCA()\n",
    "pcs_values = pcs.fit_transform(uni_normal)\n",
    "data=pd.DataFrame(pcs_values)\n",
    "data"
   ]
  },
  {
   "cell_type": "code",
   "execution_count": 10,
   "metadata": {},
   "outputs": [
    {
     "data": {
      "text/plain": [
       "array([0.76868084, 0.13113602, 0.04776031, 0.02729668, 0.0207177 ,\n",
       "       0.00440844])"
      ]
     },
     "execution_count": 10,
     "metadata": {},
     "output_type": "execute_result"
    }
   ],
   "source": [
    "pcs.explained_variance_ratio_"
   ]
  },
  {
   "cell_type": "code",
   "execution_count": 11,
   "metadata": {},
   "outputs": [
    {
     "data": {
      "text/html": [
       "<div>\n",
       "<style scoped>\n",
       "    .dataframe tbody tr th:only-of-type {\n",
       "        vertical-align: middle;\n",
       "    }\n",
       "\n",
       "    .dataframe tbody tr th {\n",
       "        vertical-align: top;\n",
       "    }\n",
       "\n",
       "    .dataframe thead th {\n",
       "        text-align: right;\n",
       "    }\n",
       "</style>\n",
       "<table border=\"1\" class=\"dataframe\">\n",
       "  <thead>\n",
       "    <tr style=\"text-align: right;\">\n",
       "      <th></th>\n",
       "      <th>0</th>\n",
       "    </tr>\n",
       "  </thead>\n",
       "  <tbody>\n",
       "    <tr>\n",
       "      <th>0</th>\n",
       "      <td>76.868084</td>\n",
       "    </tr>\n",
       "    <tr>\n",
       "      <th>1</th>\n",
       "      <td>13.113602</td>\n",
       "    </tr>\n",
       "    <tr>\n",
       "      <th>2</th>\n",
       "      <td>4.776031</td>\n",
       "    </tr>\n",
       "    <tr>\n",
       "      <th>3</th>\n",
       "      <td>2.729668</td>\n",
       "    </tr>\n",
       "    <tr>\n",
       "      <th>4</th>\n",
       "      <td>2.071770</td>\n",
       "    </tr>\n",
       "    <tr>\n",
       "      <th>5</th>\n",
       "      <td>0.440844</td>\n",
       "    </tr>\n",
       "  </tbody>\n",
       "</table>\n",
       "</div>"
      ],
      "text/plain": [
       "           0\n",
       "0  76.868084\n",
       "1  13.113602\n",
       "2   4.776031\n",
       "3   2.729668\n",
       "4   2.071770\n",
       "5   0.440844"
      ]
     },
     "execution_count": 11,
     "metadata": {},
     "output_type": "execute_result"
    }
   ],
   "source": [
    "var = (pcs.explained_variance_ratio_)*100\n",
    "pd.DataFrame(var)"
   ]
  },
  {
   "cell_type": "code",
   "execution_count": null,
   "metadata": {},
   "outputs": [],
   "source": []
  },
  {
   "cell_type": "code",
   "execution_count": 19,
   "metadata": {},
   "outputs": [
    {
     "data": {
      "text/plain": [
       "0     76.8681\n",
       "1     89.9817\n",
       "2     94.7577\n",
       "3     97.4874\n",
       "4     99.5592\n",
       "5    100.0000\n",
       "dtype: float64"
      ]
     },
     "execution_count": 19,
     "metadata": {},
     "output_type": "execute_result"
    }
   ],
   "source": [
    "cumvar = np.cumsum(np.round(var,decimals = 4))\n",
    "pd.Series(cumvar)"
   ]
  },
  {
   "cell_type": "code",
   "execution_count": 12,
   "metadata": {},
   "outputs": [
    {
     "data": {
      "text/plain": [
       "array([0, 2, 0, 0, 0, 2, 2, 0, 2, 2, 2, 0, 0, 1, 2, 1, 2, 1, 0, 0, 0, 0,\n",
       "       0, 1, 2])"
      ]
     },
     "execution_count": 12,
     "metadata": {},
     "output_type": "execute_result"
    }
   ],
   "source": [
    "from sklearn.cluster import KMeans\n",
    "\n",
    "cluster=KMeans(n_clusters=3)\n",
    "\n",
    "cluster.fit(data.iloc[:,0:2])\n",
    "\n",
    "cluster.labels_"
   ]
  },
  {
   "cell_type": "code",
   "execution_count": 13,
   "metadata": {},
   "outputs": [
    {
     "data": {
      "text/plain": [
       "<seaborn.axisgrid.PairGrid at 0x1fa189d10f0>"
      ]
     },
     "execution_count": 13,
     "metadata": {},
     "output_type": "execute_result"
    },
    {
     "data": {
      "image/png": "[encoded data removed]",
      "text/plain": [
       "<Figure size 1080x1080 with 42 Axes>"
      ]
     },
     "metadata": {
      "needs_background": "light"
     },
     "output_type": "display_data"
    }
   ],
   "source": [
    "\n",
    "sns.pairplot(pd.DataFrame(pcs_values))"
   ]
  },
  {
   "cell_type": "code",
   "execution_count": 13,
   "metadata": {},
   "outputs": [
    {
     "data": {
      "text/html": [
       "<div>\n",
       "<style scoped>\n",
       "    .dataframe tbody tr th:only-of-type {\n",
       "        vertical-align: middle;\n",
       "    }\n",
       "\n",
       "    .dataframe tbody tr th {\n",
       "        vertical-align: top;\n",
       "    }\n",
       "\n",
       "    .dataframe thead th {\n",
       "        text-align: right;\n",
       "    }\n",
       "</style>\n",
       "<table border=\"1\" class=\"dataframe\">\n",
       "  <thead>\n",
       "    <tr style=\"text-align: right;\">\n",
       "      <th></th>\n",
       "      <th>0</th>\n",
       "      <th>1</th>\n",
       "      <th>2</th>\n",
       "      <th>3</th>\n",
       "      <th>4</th>\n",
       "      <th>5</th>\n",
       "    </tr>\n",
       "  </thead>\n",
       "  <tbody>\n",
       "    <tr>\n",
       "      <th>0</th>\n",
       "      <td>1.000000e+00</td>\n",
       "      <td>8.159301e-18</td>\n",
       "      <td>-1.390641e-16</td>\n",
       "      <td>-9.197367e-17</td>\n",
       "      <td>-5.718469e-17</td>\n",
       "      <td>7.787708e-17</td>\n",
       "    </tr>\n",
       "    <tr>\n",
       "      <th>1</th>\n",
       "      <td>8.159301e-18</td>\n",
       "      <td>1.000000e+00</td>\n",
       "      <td>1.432091e-17</td>\n",
       "      <td>-1.855642e-17</td>\n",
       "      <td>6.545295e-17</td>\n",
       "      <td>1.813932e-16</td>\n",
       "    </tr>\n",
       "    <tr>\n",
       "      <th>2</th>\n",
       "      <td>-1.390641e-16</td>\n",
       "      <td>1.432091e-17</td>\n",
       "      <td>1.000000e+00</td>\n",
       "      <td>-3.792296e-16</td>\n",
       "      <td>2.275754e-16</td>\n",
       "      <td>-1.454541e-17</td>\n",
       "    </tr>\n",
       "    <tr>\n",
       "      <th>3</th>\n",
       "      <td>-9.197367e-17</td>\n",
       "      <td>-1.855642e-17</td>\n",
       "      <td>-3.792296e-16</td>\n",
       "      <td>1.000000e+00</td>\n",
       "      <td>4.765839e-17</td>\n",
       "      <td>-2.071592e-16</td>\n",
       "    </tr>\n",
       "    <tr>\n",
       "      <th>4</th>\n",
       "      <td>-5.718469e-17</td>\n",
       "      <td>6.545295e-17</td>\n",
       "      <td>2.275754e-16</td>\n",
       "      <td>4.765839e-17</td>\n",
       "      <td>1.000000e+00</td>\n",
       "      <td>-4.608261e-16</td>\n",
       "    </tr>\n",
       "    <tr>\n",
       "      <th>5</th>\n",
       "      <td>7.787708e-17</td>\n",
       "      <td>1.813932e-16</td>\n",
       "      <td>-1.454541e-17</td>\n",
       "      <td>-2.071592e-16</td>\n",
       "      <td>-4.608261e-16</td>\n",
       "      <td>1.000000e+00</td>\n",
       "    </tr>\n",
       "  </tbody>\n",
       "</table>\n",
       "</div>"
      ],
      "text/plain": [
       "              0             1             2             3             4  \\\n",
       "0  1.000000e+00  8.159301e-18 -1.390641e-16 -9.197367e-17 -5.718469e-17   \n",
       "1  8.159301e-18  1.000000e+00  1.432091e-17 -1.855642e-17  6.545295e-17   \n",
       "2 -1.390641e-16  1.432091e-17  1.000000e+00 -3.792296e-16  2.275754e-16   \n",
       "3 -9.197367e-17 -1.855642e-17 -3.792296e-16  1.000000e+00  4.765839e-17   \n",
       "4 -5.718469e-17  6.545295e-17  2.275754e-16  4.765839e-17  1.000000e+00   \n",
       "5  7.787708e-17  1.813932e-16 -1.454541e-17 -2.071592e-16 -4.608261e-16   \n",
       "\n",
       "              5  \n",
       "0  7.787708e-17  \n",
       "1  1.813932e-16  \n",
       "2 -1.454541e-17  \n",
       "3 -2.071592e-16  \n",
       "4 -4.608261e-16  \n",
       "5  1.000000e+00  "
      ]
     },
     "execution_count": 13,
     "metadata": {},
     "output_type": "execute_result"
    }
   ],
   "source": [
    "pd.DataFrame(pcs_values).corr()"
   ]
  },
  {
   "cell_type": "code",
   "execution_count": 11,
   "metadata": {},
   "outputs": [],
   "source": [
    "pca = PCA(n_components = 6)\n",
    "pca_values = pca.fit_transform(uni_normal)"
   ]
  },
  {
   "cell_type": "code",
   "execution_count": 12,
   "metadata": {},
   "outputs": [
    {
     "data": {
      "text/plain": [
       "array([0.76868084, 0.13113602, 0.04776031, 0.02729668, 0.0207177 ,\n",
       "       0.00440844])"
      ]
     },
     "execution_count": 12,
     "metadata": {},
     "output_type": "execute_result"
    }
   ],
   "source": [
    "# The amount of variance that each PCA explains is \n",
    "var = pca.explained_variance_ratio_\n",
    "var"
   ]
  },
  {
   "cell_type": "code",
   "execution_count": 13,
   "metadata": {},
   "outputs": [
    {
     "data": {
      "text/plain": [
       "array([ 76.87,  89.98,  94.76,  97.49,  99.56, 100.  ])"
      ]
     },
     "execution_count": 13,
     "metadata": {},
     "output_type": "execute_result"
    }
   ],
   "source": [
    "# Cumulative variance \n",
    "var1 = np.cumsum(np.round(var,decimals = 4)*100)\n",
    "var1b"
   ]
  },
  {
   "cell_type": "code",
   "execution_count": 17,
   "metadata": {},
   "outputs": [
    {
     "data": {
      "text/plain": [
       "1.000000000000001"
      ]
     },
     "execution_count": 17,
     "metadata": {},
     "output_type": "execute_result"
    }
   ],
   "source": [
    "weights=pd.DataFrame(pcs.components_)\n",
    "weights\n",
    "((weights.iloc[:,1])**2).sum()"
   ]
  },
  {
   "cell_type": "code",
   "execution_count": 16,
   "metadata": {},
   "outputs": [
    {
     "data": {
      "text/plain": [
       "array([[ 0.41028362,  0.6575195 , -0.88986682,  0.07026045, -0.33141256,\n",
       "         0.82030265],\n",
       "       [ 1.39925928,  1.23521235, -0.73465749, -1.68625071,  2.56038138,\n",
       "        -0.64452351],\n",
       "       [-0.06065717, -0.76045386,  1.02438157, -0.93346022, -0.16712136,\n",
       "        -1.65863393],\n",
       "       [ 0.41028362, -0.02520842, -0.78639393, -0.18066972,  0.29164871,\n",
       "         0.14422904],\n",
       "       [ 0.12771914,  0.34241431, -0.32076595,  0.07026045, -0.39084607,\n",
       "         0.36958691],\n",
       "       [ 0.69284809,  0.6575195 , -0.83813038, -0.68253005,  0.33778044,\n",
       "         0.93298158],\n",
       "       [ 0.4573777 ,  0.71003703, -0.47597528, -0.18066972,  0.29695528,\n",
       "         0.93298158],\n",
       "       [-0.10775125, -0.13024348, -0.78639393, -0.18066972, -0.51381683,\n",
       "         0.59494478],\n",
       "       [ 1.25797704,  0.76255456, -1.30375836, -0.43159988,  0.85874344,\n",
       "         1.15833946],\n",
       "       [ 0.36318954, -0.07772595,  0.24833493, -1.43532055,  2.21481798,\n",
       "         0.0315501 ],\n",
       "       [ 1.06960072,  0.92010716, -0.47597528, -0.68253005,  0.52938275,\n",
       "         0.48226584],\n",
       "       [-0.06065717,  0.44744937, -0.01034729, -0.43159988,  0.04698077,\n",
       "         0.25690797],\n",
       "       [-0.10775125,  0.23737924,  0.14486204,  0.07026045, -0.86787073,\n",
       "         0.82030265],\n",
       "       [-1.7466252 , -2.02087462,  0.76569936,  1.32491127, -1.21718409,\n",
       "        -0.75720245],\n",
       "       [ 1.02250664,  0.76255456, -1.30375836, -1.18439038,  0.20037583,\n",
       "         0.93298158],\n",
       "       [-2.46245521, -2.54604994,  2.6282113 ,  1.57584144, -1.29635802,\n",
       "        -1.99667073],\n",
       "       [ 0.88122441,  0.71003703, -0.9933397 , -0.18066972,  0.64117435,\n",
       "         0.70762371],\n",
       "       [-1.8031381 , -1.44318177,  1.43827311,  3.08142243, -1.32197103,\n",
       "        -2.22202861],\n",
       "       [-0.24903349,  0.97262469,  0.04138915,  1.07398111, -0.86659715,\n",
       "        -0.98256032],\n",
       "       [ 0.2219073 , -0.07772595,  0.55875358,  0.07026045,  0.77772991,\n",
       "         0.0315501 ],\n",
       "       [-0.81416244, -0.60290126,  1.49000956,  0.82305094, -0.84324827,\n",
       "        -0.19380777],\n",
       "       [ 0.17481322,  0.18486171, -0.16555662, -0.43159988,  0.01167444,\n",
       "         0.36958691],\n",
       "       [-0.39031573,  0.02730912,  0.24833493,  0.32119061, -0.99331788,\n",
       "         0.59494478],\n",
       "       [-1.70894994, -1.91583956,  1.541746  ,  0.57212078, -1.09888311,\n",
       "        -1.77131286],\n",
       "       [ 1.02250664,  0.97262469, -1.04507615, -0.43159988,  1.14098185,\n",
       "         1.04566052]])"
      ]
     },
     "execution_count": 16,
     "metadata": {},
     "output_type": "execute_result"
    }
   ],
   "source": [
    "uni_normal"
   ]
  },
  {
   "cell_type": "code",
   "execution_count": 20,
   "metadata": {},
   "outputs": [
    {
     "data": {
      "text/plain": [
       "[<matplotlib.lines.Line2D at 0x1fa1dc45630>]"
      ]
     },
     "execution_count": 20,
     "metadata": {},
     "output_type": "execute_result"
    },
    {
     "data": {
      "image/png": "[encoded data removed]",
      "text/plain": [
       "<Figure size 432x288 with 1 Axes>"
      ]
     },
     "metadata": {
      "needs_background": "light"
     },
     "output_type": "display_data"
    }
   ],
   "source": [
    "# Variance plot for PCA components obtained \n",
    "plt.plot(cumvar,color=\"red\")"
   ]
  },
  {
   "cell_type": "code",
   "execution_count": 18,
   "metadata": {},
   "outputs": [
    {
     "data": {
      "text/plain": [
       "array([[-1.00987445],\n",
       "       [-2.82223781],\n",
       "       [ 1.11246577],\n",
       "       [-0.74174122],\n",
       "       [-0.31191206],\n",
       "       [-1.69669089],\n",
       "       [-1.24682093],\n",
       "       [-0.33874978],\n",
       "       [-2.37415013],\n",
       "       [-1.40327739],\n",
       "       [-1.72610332],\n",
       "       [-0.45085748],\n",
       "       [ 0.04023814],\n",
       "       [ 3.23373034],\n",
       "       [-2.23626502],\n",
       "       [ 5.17299212],\n",
       "       [-1.69964377],\n",
       "       [ 4.578146  ],\n",
       "       [ 0.82260312],\n",
       "       [-0.09776213],\n",
       "       [ 1.9631826 ],\n",
       "       [-0.54228894],\n",
       "       [ 0.53222092],\n",
       "       [ 3.54869664],\n",
       "       [-2.30590032]])"
      ]
     },
     "execution_count": 18,
     "metadata": {},
     "output_type": "execute_result"
    }
   ],
   "source": [
    " pca_values[:,0:1]"
   ]
  },
  {
   "cell_type": "code",
   "execution_count": 21,
   "metadata": {},
   "outputs": [
    {
     "data": {
      "text/plain": [
       "<matplotlib.collections.PathCollection at 0x2185bed2630>"
      ]
     },
     "execution_count": 21,
     "metadata": {},
     "output_type": "execute_result"
    },
    {
     "data": {
      "image/png": "[encoded data removed]",
      "text/plain": [
       "<Figure size 432x288 with 1 Axes>"
      ]
     },
     "metadata": {
      "needs_background": "light"
     },
     "output_type": "display_data"
    }
   ],
   "source": [
    "# plot between PCA1 and PCA2 \n",
    "x = pcs_values[:,0]\n",
    "y = pcs_values[:,1]\n",
    "#z = pca_values[:2:3]\n",
    "plt.scatter(x,y)\n"
   ]
  },
  {
   "cell_type": "code",
   "execution_count": 22,
   "metadata": {},
   "outputs": [
    {
     "data": {
      "text/html": [
       "<div>\n",
       "<style scoped>\n",
       "    .dataframe tbody tr th:only-of-type {\n",
       "        vertical-align: middle;\n",
       "    }\n",
       "\n",
       "    .dataframe tbody tr th {\n",
       "        vertical-align: top;\n",
       "    }\n",
       "\n",
       "    .dataframe thead th {\n",
       "        text-align: right;\n",
       "    }\n",
       "</style>\n",
       "<table border=\"1\" class=\"dataframe\">\n",
       "  <thead>\n",
       "    <tr style=\"text-align: right;\">\n",
       "      <th></th>\n",
       "      <th>pc1</th>\n",
       "      <th>pc2</th>\n",
       "      <th>Univ</th>\n",
       "    </tr>\n",
       "  </thead>\n",
       "  <tbody>\n",
       "    <tr>\n",
       "      <th>0</th>\n",
       "      <td>-1.009874</td>\n",
       "      <td>-1.064310</td>\n",
       "      <td>Brown</td>\n",
       "    </tr>\n",
       "    <tr>\n",
       "      <th>1</th>\n",
       "      <td>-2.822238</td>\n",
       "      <td>2.259045</td>\n",
       "      <td>CalTech</td>\n",
       "    </tr>\n",
       "    <tr>\n",
       "      <th>2</th>\n",
       "      <td>1.112466</td>\n",
       "      <td>1.631209</td>\n",
       "      <td>CMU</td>\n",
       "    </tr>\n",
       "    <tr>\n",
       "      <th>3</th>\n",
       "      <td>-0.741741</td>\n",
       "      <td>-0.042187</td>\n",
       "      <td>Columbia</td>\n",
       "    </tr>\n",
       "    <tr>\n",
       "      <th>4</th>\n",
       "      <td>-0.311912</td>\n",
       "      <td>-0.635244</td>\n",
       "      <td>Cornell</td>\n",
       "    </tr>\n",
       "    <tr>\n",
       "      <th>5</th>\n",
       "      <td>-1.696691</td>\n",
       "      <td>-0.344363</td>\n",
       "      <td>Dartmouth</td>\n",
       "    </tr>\n",
       "    <tr>\n",
       "      <th>6</th>\n",
       "      <td>-1.246821</td>\n",
       "      <td>-0.490984</td>\n",
       "      <td>Duke</td>\n",
       "    </tr>\n",
       "    <tr>\n",
       "      <th>7</th>\n",
       "      <td>-0.338750</td>\n",
       "      <td>-0.785169</td>\n",
       "      <td>Georgetown</td>\n",
       "    </tr>\n",
       "    <tr>\n",
       "      <th>8</th>\n",
       "      <td>-2.374150</td>\n",
       "      <td>-0.386539</td>\n",
       "      <td>Harvard</td>\n",
       "    </tr>\n",
       "    <tr>\n",
       "      <th>9</th>\n",
       "      <td>-1.403277</td>\n",
       "      <td>2.119515</td>\n",
       "      <td>JohnsHopkins</td>\n",
       "    </tr>\n",
       "    <tr>\n",
       "      <th>10</th>\n",
       "      <td>-1.726103</td>\n",
       "      <td>0.088237</td>\n",
       "      <td>MIT</td>\n",
       "    </tr>\n",
       "    <tr>\n",
       "      <th>11</th>\n",
       "      <td>-0.450857</td>\n",
       "      <td>-0.011133</td>\n",
       "      <td>Northwestern</td>\n",
       "    </tr>\n",
       "    <tr>\n",
       "      <th>12</th>\n",
       "      <td>0.040238</td>\n",
       "      <td>-1.009204</td>\n",
       "      <td>NotreDame</td>\n",
       "    </tr>\n",
       "    <tr>\n",
       "      <th>13</th>\n",
       "      <td>3.233730</td>\n",
       "      <td>-0.374580</td>\n",
       "      <td>PennState</td>\n",
       "    </tr>\n",
       "    <tr>\n",
       "      <th>14</th>\n",
       "      <td>-2.236265</td>\n",
       "      <td>-0.371793</td>\n",
       "      <td>Princeton</td>\n",
       "    </tr>\n",
       "    <tr>\n",
       "      <th>15</th>\n",
       "      <td>5.172992</td>\n",
       "      <td>0.779915</td>\n",
       "      <td>Purdue</td>\n",
       "    </tr>\n",
       "    <tr>\n",
       "      <th>16</th>\n",
       "      <td>-1.699644</td>\n",
       "      <td>-0.305597</td>\n",
       "      <td>Stanford</td>\n",
       "    </tr>\n",
       "    <tr>\n",
       "      <th>17</th>\n",
       "      <td>4.578146</td>\n",
       "      <td>-0.347591</td>\n",
       "      <td>TexasA&amp;M</td>\n",
       "    </tr>\n",
       "    <tr>\n",
       "      <th>18</th>\n",
       "      <td>0.822603</td>\n",
       "      <td>-0.698906</td>\n",
       "      <td>UCBerkeley</td>\n",
       "    </tr>\n",
       "    <tr>\n",
       "      <th>19</th>\n",
       "      <td>-0.097762</td>\n",
       "      <td>0.650446</td>\n",
       "      <td>UChicago</td>\n",
       "    </tr>\n",
       "    <tr>\n",
       "      <th>20</th>\n",
       "      <td>1.963183</td>\n",
       "      <td>-0.224768</td>\n",
       "      <td>UMichigan</td>\n",
       "    </tr>\n",
       "    <tr>\n",
       "      <th>21</th>\n",
       "      <td>-0.542289</td>\n",
       "      <td>-0.079589</td>\n",
       "      <td>UPenn</td>\n",
       "    </tr>\n",
       "    <tr>\n",
       "      <th>22</th>\n",
       "      <td>0.532221</td>\n",
       "      <td>-1.017167</td>\n",
       "      <td>UVA</td>\n",
       "    </tr>\n",
       "    <tr>\n",
       "      <th>23</th>\n",
       "      <td>3.548697</td>\n",
       "      <td>0.778462</td>\n",
       "      <td>UWisconsin</td>\n",
       "    </tr>\n",
       "    <tr>\n",
       "      <th>24</th>\n",
       "      <td>-2.305900</td>\n",
       "      <td>-0.117704</td>\n",
       "      <td>Yale</td>\n",
       "    </tr>\n",
       "  </tbody>\n",
       "</table>\n",
       "</div>"
      ],
      "text/plain": [
       "         pc1       pc2          Univ\n",
       "0  -1.009874 -1.064310         Brown\n",
       "1  -2.822238  2.259045       CalTech\n",
       "2   1.112466  1.631209           CMU\n",
       "3  -0.741741 -0.042187      Columbia\n",
       "4  -0.311912 -0.635244       Cornell\n",
       "5  -1.696691 -0.344363     Dartmouth\n",
       "6  -1.246821 -0.490984          Duke\n",
       "7  -0.338750 -0.785169    Georgetown\n",
       "8  -2.374150 -0.386539       Harvard\n",
       "9  -1.403277  2.119515  JohnsHopkins\n",
       "10 -1.726103  0.088237           MIT\n",
       "11 -0.450857 -0.011133  Northwestern\n",
       "12  0.040238 -1.009204     NotreDame\n",
       "13  3.233730 -0.374580     PennState\n",
       "14 -2.236265 -0.371793     Princeton\n",
       "15  5.172992  0.779915        Purdue\n",
       "16 -1.699644 -0.305597      Stanford\n",
       "17  4.578146 -0.347591      TexasA&M\n",
       "18  0.822603 -0.698906    UCBerkeley\n",
       "19 -0.097762  0.650446      UChicago\n",
       "20  1.963183 -0.224768     UMichigan\n",
       "21 -0.542289 -0.079589         UPenn\n",
       "22  0.532221 -1.017167           UVA\n",
       "23  3.548697  0.778462    UWisconsin\n",
       "24 -2.305900 -0.117704          Yale"
      ]
     },
     "execution_count": 22,
     "metadata": {},
     "output_type": "execute_result"
    }
   ],
   "source": [
    "finalDf = pd.concat([pd.DataFrame(pcs_values[:,0:2],columns=['pc1','pc2']), uni[['Univ']]], axis = 1)\n",
    "finalDf"
   ]
  },
  {
   "cell_type": "code",
   "execution_count": 23,
   "metadata": {},
   "outputs": [
    {
     "data": {
      "text/plain": [
       "<matplotlib.axes._subplots.AxesSubplot at 0x1fa1dc72e48>"
      ]
     },
     "execution_count": 23,
     "metadata": {},
     "output_type": "execute_result"
    },
    {
     "data": {
      "image/png": "[encoded data removed]",
      "text/plain": [
       "<Figure size 432x288 with 1 Axes>"
      ]
     },
     "metadata": {
      "needs_background": "light"
     },
     "output_type": "display_data"
    }
   ],
   "source": [
    "import seaborn as sns\n",
    "sns.scatterplot(data=finalDf,x='pc1',y='pc2',hue='Univ')"
   ]
  }
 ],
 "metadata": {
  "kernelspec": {
   "display_name": "Python 3",
   "language": "python",
   "name": "python3"
  },
  "language_info": {
   "codemirror_mode": {
    "name": "ipython",
    "version": 3
   },
   "file_extension": ".py",
   "mimetype": "text/x-python",
   "name": "python",
   "nbconvert_exporter": "python",
   "pygments_lexer": "ipython3",
   "version": "3.7.3"
  }
 },
 "nbformat": 4,
 "nbformat_minor": 2
}
